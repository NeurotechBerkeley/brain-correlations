{
 "cells": [
  {
   "cell_type": "code",
   "execution_count": 1,
   "metadata": {
    "collapsed": true
   },
   "outputs": [],
   "source": [
    "import os\n",
    "import pandas as pd\n",
    "from matplotlib.pyplot import *\n",
    "import matplotlib.pyplot as plt\n",
    "import numpy as np\n",
    "from scipy import signal, stats\n",
    "%matplotlib inline"
   ]
  },
  {
   "cell_type": "code",
   "execution_count": 2,
   "metadata": {},
   "outputs": [
    {
     "data": {
      "text/plain": [
       "'/home/pierre/research/neurotech/brain-correlations/code/analysis/../../data'"
      ]
     },
     "execution_count": 2,
     "metadata": {},
     "output_type": "execute_result"
    }
   ],
   "source": [
    "working_dir = os.getcwd()\n",
    "data_dir = os.path.join(working_dir, \"../..\", \"data\")\n",
    "data_dir"
   ]
  },
  {
   "cell_type": "code",
   "execution_count": 3,
   "metadata": {
    "collapsed": true
   },
   "outputs": [],
   "source": [
    "def merge_files(fnames):\n",
    "    ps = []\n",
    "    for fname in fnames:\n",
    "        p = pd.read_csv(os.path.join(data_dir, fname))\n",
    "        ps.append(p)\n",
    "\n",
    "    out = []\n",
    "    for ps0, ps1 in zip(ps, ps[1:]):\n",
    "        t0 = np.array(ps0['timestamps'])\n",
    "        t1 = np.array(ps1['timestamps'])\n",
    "        dt = t1[0] - t0[-1]\n",
    "\n",
    "        fs0 = 1/np.mean(np.diff(t0))\n",
    "        fs1 = 1/np.mean(np.diff(t1))\n",
    "        fs = (fs0 + fs1) / 2.0\n",
    "\n",
    "        tt = np.arange(t0[-1], t1[0], 1/fs)\n",
    "        eeg = np.zeros((tt.shape[0], 4))\n",
    "        marker = np.zeros(tt.shape[0])\n",
    "\n",
    "        dd = pd.DataFrame(np.hstack([tt[:, np.newaxis], eeg, marker[:, np.newaxis]]),\n",
    "                          columns=ps[0].columns)\n",
    "\n",
    "        out.append(ps0)\n",
    "        out.append(dd)\n",
    "\n",
    "    out.append(ps[-1])\n",
    "    return pd.concat(out)"
   ]
  },
  {
   "cell_type": "code",
   "execution_count": 4,
   "metadata": {
    "collapsed": true
   },
   "outputs": [],
   "source": [
    "\"\"\"Load Pierre Raw Data\"\"\"\n",
    "fnames = [\"data_pierre_1.csv\", \"data_pierre_2.csv\"]\n",
    "pierre = merge_files(fnames)"
   ]
  },
  {
   "cell_type": "code",
   "execution_count": 5,
   "metadata": {
    "collapsed": true
   },
   "outputs": [],
   "source": [
    "pierre_t = np.array(pierre['timestamps'])\n",
    "pierre_data = np.array(pierre.ix[:,1:5])"
   ]
  },
  {
   "cell_type": "code",
   "execution_count": 6,
   "metadata": {
    "collapsed": true
   },
   "outputs": [],
   "source": [
    "\"\"\"Load Gaby Raw Data\"\"\"\n",
    "gaby = pd.read_csv(os.path.join(data_dir, \"data_gaby.csv\"))\n",
    "gaby_t = np.array(gaby['timestamps'])\n",
    "gaby_data = np.array(gaby.ix[:,1:5])"
   ]
  },
  {
   "cell_type": "code",
   "execution_count": 7,
   "metadata": {},
   "outputs": [
    {
     "name": "stdout",
     "output_type": "stream",
     "text": [
      "gaby's start time is 338.011000156 earlier than pierre\n",
      "gaby's end time is -311.409000158 later than pierre\n",
      "need to trim gaby on both ends to fit pierre\n"
     ]
    }
   ],
   "source": [
    "print(\"gaby's start time is\", pierre_t[0] - gaby_t[0], \"earlier than pierre\")\n",
    "print(\"gaby's end time is\", gaby_t[-1] - pierre_t[-1], \"later than pierre\")\n",
    "print(\"need to trim gaby on both ends to fit pierre\")"
   ]
  },
  {
   "cell_type": "code",
   "execution_count": 8,
   "metadata": {
    "collapsed": true
   },
   "outputs": [],
   "source": [
    "\"\"\"Trim gaby's start time to match pierre'\"\"\"\n",
    "gaby_t = gaby_t[np.where(gaby_t >= pierre_t[0])]\n",
    "gaby_data = gaby_data[np.where(gaby_t >= pierre_t[0])]"
   ]
  },
  {
   "cell_type": "code",
   "execution_count": 9,
   "metadata": {},
   "outputs": [
    {
     "name": "stdout",
     "output_type": "stream",
     "text": [
      "gaby's start time is -0.0160000324249 earlier than pierre\n",
      "gaby's end time is -311.409000158 later than pierre\n"
     ]
    }
   ],
   "source": [
    "print(\"gaby's start time is\", pierre_t[0] - gaby_t[0], \"earlier than pierre\")\n",
    "print(\"gaby's end time is\", gaby_t[-1] - pierre_t[-1], \"later than pierre\")"
   ]
  },
  {
   "cell_type": "code",
   "execution_count": 10,
   "metadata": {
    "collapsed": true
   },
   "outputs": [],
   "source": [
    "# \"\"\"Trim gaby's end time to match pierre\"\"\"\n",
    "# diverging_index = np.where(gaby_t >= pierre_t[-1])[0][0]\n",
    "# gaby_t = gaby_t[:diverging_index]\n",
    "# gaby_data = gaby_data[:diverging_index]"
   ]
  },
  {
   "cell_type": "code",
   "execution_count": 11,
   "metadata": {
    "collapsed": true
   },
   "outputs": [],
   "source": [
    "\"\"\"Trim pierre's end time to match gaby\"\"\"\n",
    "diverging_index = np.where(pierre_t >= gaby_t[-1])[0][0]\n",
    "pierre_t = pierre_t[:diverging_index]\n",
    "pirere_data = pierre_data[:diverging_index]"
   ]
  },
  {
   "cell_type": "code",
   "execution_count": 12,
   "metadata": {},
   "outputs": [
    {
     "name": "stdout",
     "output_type": "stream",
     "text": [
      "gaby's start time is -0.0160000324249 earlier than pierre\n",
      "gaby's end time is 0.00200009346008 later than pierre\n"
     ]
    }
   ],
   "source": [
    "print(\"gaby's start time is\", pierre_t[0] - gaby_t[0], \"earlier than pierre\")\n",
    "print(\"gaby's end time is\", gaby_t[-1] - pierre_t[-1], \"later than pierre\")"
   ]
  },
  {
   "cell_type": "code",
   "execution_count": 13,
   "metadata": {},
   "outputs": [
    {
     "name": "stdout",
     "output_type": "stream",
     "text": [
      "gaby's sampling frequency is 180.066754045\n",
      "pierre's sampling frequency is 195.960366386\n",
      "Therefore, pierre has more samples within the same timecourse.\n",
      "pierre has 71978 more samples than gaby within same timecourse.\n",
      "Need to downsample pierre to have same number of data points as gaby.\n"
     ]
    }
   ],
   "source": [
    "gaby_fs = 1/np.mean(np.diff(gaby_t))\n",
    "print(\"gaby's sampling frequency is\", gaby_fs)\n",
    "pierre_fs = 1/np.mean(np.diff(pierre_t))\n",
    "print(\"pierre's sampling frequency is\", pierre_fs)\n",
    "print(\"Therefore, pierre has more samples within the same timecourse.\")\n",
    "print(\"pierre has\", len(pierre_t) - len(gaby_t), \"more samples than gaby within same timecourse.\")\n",
    "print(\"Need to downsample pierre to have same number of data points as gaby.\")"
   ]
  },
  {
   "cell_type": "code",
   "execution_count": 14,
   "metadata": {
    "collapsed": true
   },
   "outputs": [],
   "source": [
    "\"\"\"Resampling pierre to gaby's length\"\"\"\n",
    "pierre_data = signal.resample(pierre_data, len(gaby_t), axis=0)"
   ]
  },
  {
   "cell_type": "code",
   "execution_count": 32,
   "metadata": {},
   "outputs": [
    {
     "name": "stdout",
     "output_type": "stream",
     "text": [
      "pierre has 0 more samples than gaby within same timecourse.\n"
     ]
    }
   ],
   "source": [
    "print(\"pierre has\", len(pierre_data) - len(gaby_data), \"more samples than gaby within same timecourse.\")"
   ]
  },
  {
   "cell_type": "code",
   "execution_count": 33,
   "metadata": {
    "collapsed": true
   },
   "outputs": [],
   "source": [
    "fs = gaby_fs"
   ]
  },
  {
   "cell_type": "code",
   "execution_count": 34,
   "metadata": {
    "collapsed": true
   },
   "outputs": [],
   "source": [
    "## filter signal to remove noise\n",
    "b, a = signal.butter(4, (2/(fs/2), 30/(fs/2)), btype='bandpass')\n",
    "pierre_smoothed = signal.filtfilt(b, a, pierre_data, axis=0)\n",
    "gaby_smoothed = signal.filtfilt(b, a, gaby_data, axis=0)"
   ]
  },
  {
   "cell_type": "code",
   "execution_count": 36,
   "metadata": {},
   "outputs": [
    {
     "name": "stderr",
     "output_type": "stream",
     "text": [
      "/home/pierre/.local/lib/python3.6/site-packages/scipy/signal/spectral.py:1637: UserWarning: nperseg = 256 is greater than input length  = 180, using nperseg = 180\n",
      "  .format(nperseg, input_length))\n",
      "/home/pierre/.local/lib/python3.6/site-packages/scipy/signal/spectral.py:1637: UserWarning: nperseg = 256 is greater than input length  = 148, using nperseg = 148\n",
      "  .format(nperseg, input_length))\n",
      "/home/pierre/.local/lib/python3.6/site-packages/scipy/signal/spectral.py:1637: UserWarning: nperseg = 256 is greater than input length  = 103, using nperseg = 103\n",
      "  .format(nperseg, input_length))\n",
      "/home/pierre/.local/lib/python3.6/site-packages/scipy/signal/spectral.py:1637: UserWarning: nperseg = 256 is greater than input length  = 58, using nperseg = 58\n",
      "  .format(nperseg, input_length))\n",
      "/home/pierre/.local/lib/python3.6/site-packages/scipy/signal/spectral.py:1637: UserWarning: nperseg = 256 is greater than input length  = 13, using nperseg = 13\n",
      "  .format(nperseg, input_length))\n",
      "/home/pierre/.local/lib/python3.6/site-packages/scipy/stats/stats.py:3021: RuntimeWarning: invalid value encountered in double_scalars\n",
      "  r = r_num / r_den\n"
     ]
    }
   ],
   "source": [
    "window = fs\n",
    "step = fs/4\n",
    "corr = []\n",
    "times = []\n",
    "\n",
    "#advance window of 200 samples by 25 samples each time\n",
    "## take correlation between signals across each sample\n",
    "for index in np.arange(0, len(pierre_smoothed), step):\n",
    "    start = int(index)\n",
    "    end = int(start + window)\n",
    "#     w1 = pierre_smoothed[start:end]\n",
    "#     w2 = gaby_smoothed[start:end]\n",
    "    freqs, w1 = signal.welch(pierre_smoothed[start:end], fs=fs, axis=0)\n",
    "    freqs, w2 = signal.welch(gaby_smoothed[start:end], fs=fs, axis=0)\n",
    "    good = (freqs >= 2) & (freqs <= 25)\n",
    "    w1 = np.log(w1[good])\n",
    "    w2 = np.log(w2[good])\n",
    "    \n",
    "    ## average the correlation across each channel\n",
    "    r = 0\n",
    "    for c in range(w1.shape[1]): #for each electrode\n",
    "        r += stats.pearsonr(w1[:, c], w2[:, c])[0] #correlate that electrode between gaby and pierre\n",
    "    r /= w1.shape[1] #average correlation across electrodes\n",
    "    \n",
    "    mid = (start+end)/2 # middle sample\n",
    "    t = mid / fs # convert middle sample to time\n",
    "    \n",
    "    times.append(t)\n",
    "    corr.append(r)\n",
    "\n",
    "times = np.array(times)\n",
    "corr = np.array(corr)"
   ]
  },
  {
   "cell_type": "code",
   "execution_count": 28,
   "metadata": {
    "collapsed": true
   },
   "outputs": [],
   "source": [
    "corr = np.abs(corr)"
   ]
  },
  {
   "cell_type": "code",
   "execution_count": 23,
   "metadata": {
    "collapsed": true
   },
   "outputs": [],
   "source": [
    "def moving_average(sig, n=3):\n",
    "    return signal.convolve(sig, np.ones(n)/n, mode='same')"
   ]
  },
  {
   "cell_type": "code",
   "execution_count": 26,
   "metadata": {
    "collapsed": true
   },
   "outputs": [],
   "source": [
    "corr[np.isnan(corr)] = 0"
   ]
  },
  {
   "cell_type": "code",
   "execution_count": 108,
   "metadata": {
    "collapsed": true
   },
   "outputs": [],
   "source": [
    "np.savetxt(\"times_100_2.txt\", times[::4])\n",
    "np.savetxt(\"corr_100_2.txt\", moving_average(corr,100)[::4])"
   ]
  },
  {
   "cell_type": "code",
   "execution_count": 29,
   "metadata": {},
   "outputs": [
    {
     "data": {
      "image/png": "[encoded data removed]",
      "text/plain": [
       "<matplotlib.figure.Figure at 0x7f1633d58518>"
      ]
     },
     "metadata": {},
     "output_type": "display_data"
    }
   ],
   "source": [
    "figure(figsize=(14,4))\n",
    "plot(times, moving_average(corr,100))\n",
    "xlabel('Time (s)')\n",
    "ylabel('Correlation')\n",
    "_ = title('Correlation across brains')"
   ]
  },
  {
   "cell_type": "code",
   "execution_count": 100,
   "metadata": {
    "collapsed": true
   },
   "outputs": [],
   "source": [
    "\"\"\"Syncing to video content\"\"\"\n",
    "start_white = 1492292390.07327\n",
    "start_black = 1492292391.07712\n",
    "end_white = 1492297704.94143\n",
    "end_black = 1492297705.94569"
   ]
  },
  {
   "cell_type": "code",
   "execution_count": 101,
   "metadata": {},
   "outputs": [
    {
     "name": "stdout",
     "output_type": "stream",
     "text": [
      "Brain recordings lasted for 4528 seconds\n"
     ]
    }
   ],
   "source": [
    "print(\"Brain recordings lasted for\", int(times[-1]), \"seconds\")"
   ]
  },
  {
   "cell_type": "code",
   "execution_count": 102,
   "metadata": {},
   "outputs": [
    {
     "name": "stdout",
     "output_type": "stream",
     "text": [
      "Brain recordings started 124.2988801 seconds after black screen\n"
     ]
    }
   ],
   "source": [
    "print(\"Brain recordings started\", pierre_t[0] - start_black, \"seconds after black screen\")"
   ]
  },
  {
   "cell_type": "code",
   "execution_count": 103,
   "metadata": {},
   "outputs": [
    {
     "name": "stdout",
     "output_type": "stream",
     "text": [
      "Brain recordings ended 661.990689993 seconds before black screen\n"
     ]
    }
   ],
   "source": [
    "print(\"Brain recordings ended\", end_black - pierre_t[-1], \"seconds before black screen\")"
   ]
  },
  {
   "cell_type": "code",
   "execution_count": null,
   "metadata": {
    "collapsed": true
   },
   "outputs": [],
   "source": []
  }
 ],
 "metadata": {
  "anaconda-cloud": {},
  "kernelspec": {
   "display_name": "Python 3",
   "language": "python",
   "name": "python3"
  },
  "language_info": {
   "codemirror_mode": {
    "name": "ipython",
    "version": 3
   },
   "file_extension": ".py",
   "mimetype": "text/x-python",
   "name": "python",
   "nbconvert_exporter": "python",
   "pygments_lexer": "ipython3",
   "version": "3.6.1"
  }
 },
 "nbformat": 4,
 "nbformat_minor": 1
}
