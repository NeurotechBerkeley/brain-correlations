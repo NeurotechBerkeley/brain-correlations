{
 "cells": [
  {
   "cell_type": "code",
   "execution_count": null,
   "metadata": {
    "collapsed": true
   },
   "outputs": [],
   "source": [
    "import os\n",
    "import pandas as pd\n",
    "from matplotlib.pyplot import *\n",
    "import matplotlib.pyplot as plt\n",
    "import numpy as np\n",
    "from scipy import signal, stats\n",
    "%matplotlib inline"
   ]
  },
  {
   "cell_type": "code",
   "execution_count": null,
   "metadata": {
    "collapsed": true
   },
   "outputs": [],
   "source": [
    "working_dir = os.getcwd()\n",
    "data_dir = os.path.join(working_dir, \"..\", \"data\")"
   ]
  },
  {
   "cell_type": "code",
   "execution_count": null,
   "metadata": {
    "collapsed": false
   },
   "outputs": [],
   "source": [
    "\"\"\"Load Pierre Raw Data\"\"\"\n",
    "pierre = pd.read_csv(os.path.join(data_dir, \"data_pierre_1.csv\"))\n",
    "pierre_t = np.array(pierre['timestamps'])\n",
    "pierre_1 = np.array(pierre[\"Unnamed: 1\"])\n",
    "pierre_2 = np.array(pierre[\"Unnamed: 2\"])\n",
    "pierre_3 = np.array(pierre[\"Unnamed: 3\"])\n",
    "pierre_4 = np.array(pierre[\"Unnamed: 4\"])"
   ]
  },
  {
   "cell_type": "code",
   "execution_count": null,
   "metadata": {
    "collapsed": false
   },
   "outputs": [],
   "source": [
    "\"\"\"Load Gaby Raw Data\"\"\"\n",
    "gaby = pd.read_csv(os.path.join(data_dir, \"data_gaby.csv\"))\n",
    "gaby_t = np.array(gaby['timestamps'])\n",
    "gaby_1 = np.array(gaby[\"Unnamed: 1\"])\n",
    "gaby_2 = np.array(gaby[\"Unnamed: 2\"])\n",
    "gaby_3 = np.array(gaby[\"Unnamed: 3\"])\n",
    "gaby_4 = np.array(gaby[\"Unnamed: 4\"])"
   ]
  },
  {
   "cell_type": "code",
   "execution_count": null,
   "metadata": {
    "collapsed": false
   },
   "outputs": [],
   "source": [
    "print(\"gaby's start time is\", pierre_t[0] - gaby_t[0], \"earlier than pierre\")\n",
    "print(\"gaby's end time is\", gaby_t[-1] - pierre_t[-1], \"later than pierre\")\n",
    "print(\"need to trim gaby on both ends to fit pierre\")"
   ]
  },
  {
   "cell_type": "code",
   "execution_count": null,
   "metadata": {
    "collapsed": false
   },
   "outputs": [],
   "source": [
    "\"\"\"Trim gaby's start time to match pierre'\"\"\"\n",
    "gaby_t = gaby_t[np.where(gaby_t >= pierre_t[0])]\n",
    "gaby_1 = gaby_1[np.where(gaby_t >= pierre_t[0])]\n",
    "gaby_2 = gaby_2[np.where(gaby_t >= pierre_t[0])]\n",
    "gaby_3 = gaby_3[np.where(gaby_t >= pierre_t[0])]\n",
    "gaby_4 = gaby_4[np.where(gaby_t >= pierre_t[0])]"
   ]
  },
  {
   "cell_type": "code",
   "execution_count": null,
   "metadata": {
    "collapsed": false
   },
   "outputs": [],
   "source": [
    "print(\"gaby's start time is\", pierre_t[0] - gaby_t[0], \"earlier than pierre\")\n",
    "print(\"gaby's end time is\", gaby_t[-1] - pierre_t[-1], \"later than pierre\")"
   ]
  },
  {
   "cell_type": "code",
   "execution_count": null,
   "metadata": {
    "collapsed": false
   },
   "outputs": [],
   "source": [
    "\"\"\"Trim gaby's end time to match pierre\"\"\"\n",
    "diverging_index = np.where(gaby_t >= pierre_t[-1])[0][0]\n",
    "gaby_t = gaby_t[:diverging_index]\n",
    "gaby_1 = gaby_1[:diverging_index]\n",
    "gaby_2 = gaby_2[:diverging_index]\n",
    "gaby_3 = gaby_3[:diverging_index]\n",
    "gaby_4 = gaby_4[:diverging_index]"
   ]
  },
  {
   "cell_type": "code",
   "execution_count": null,
   "metadata": {
    "collapsed": false
   },
   "outputs": [],
   "source": [
    "print(\"gaby's start time is\", pierre_t[0] - gaby_t[0], \"earlier than pierre\")\n",
    "print(\"gaby's end time is\", gaby_t[-1] - pierre_t[-1], \"later than pierre\")"
   ]
  },
  {
   "cell_type": "code",
   "execution_count": null,
   "metadata": {
    "collapsed": false
   },
   "outputs": [],
   "source": [
    "gaby_fs = 1/np.mean(np.diff(gaby_t))\n",
    "print(\"gaby's sampling frequency is\", gaby_fs)\n",
    "pierre_fs = 1/np.mean(np.diff(pierre_t))\n",
    "print(\"pierre's sampling frequency is\", pierre_fs)\n",
    "print(\"Therefore, pierre has more samples within the same timecourse.\")\n",
    "print(\"pierre has\", len(pierre_t) - len(gaby_t), \"more samples than gaby within same timecourse.\")\n",
    "print(\"Need to downsample pierre to have same number of data points as gaby.\")"
   ]
  },
  {
   "cell_type": "code",
   "execution_count": null,
   "metadata": {
    "collapsed": false
   },
   "outputs": [],
   "source": [
    "\"\"\"Resampling pierre to gaby's length\"\"\"\n",
    "pierre_1 = signal.resample(pierre_1, len(gaby_t))\n",
    "pierre_2 = signal.resample(pierre_2, len(gaby_t))\n",
    "pierre_3 = signal.resample(pierre_3, len(gaby_t))\n",
    "pierre_4 = signal.resample(pierre_4, len(gaby_t))"
   ]
  },
  {
   "cell_type": "code",
   "execution_count": null,
   "metadata": {
    "collapsed": false
   },
   "outputs": [],
   "source": [
    "print(\"pierre has\", len(pierre_1) - len(gaby_1), \"more samples than gaby within same timecourse.\")"
   ]
  },
  {
   "cell_type": "code",
   "execution_count": null,
   "metadata": {
    "collapsed": true
   },
   "outputs": [],
   "source": [
    "fs = gaby_fs"
   ]
  },
  {
   "cell_type": "code",
   "execution_count": null,
   "metadata": {
    "collapsed": false
   },
   "outputs": [],
   "source": [
    "pierre_data = np.concatenate((pierre_1.reshape(-1,1), pierre_2.reshape(-1,1), pierre_3.reshape(-1,1), pierre_4.reshape(-1,1)), axis=1)"
   ]
  },
  {
   "cell_type": "code",
   "execution_count": null,
   "metadata": {
    "collapsed": false
   },
   "outputs": [],
   "source": [
    "gaby_data = np.concatenate((gaby_1.reshape(-1,1), gaby_2.reshape(-1,1), gaby_3.reshape(-1,1), gaby_4.reshape(-1,1)), axis=1)"
   ]
  },
  {
   "cell_type": "code",
   "execution_count": null,
   "metadata": {
    "collapsed": false
   },
   "outputs": [],
   "source": [
    "## filter signal to remove noise\n",
    "b, a = signal.butter(2, (2/(fs/2), 30/(fs/2)), btype='bandpass')\n",
    "pierre_smoothed = signal.filtfilt(b, a, pierre_data, axis=0)\n",
    "gaby_smoothed = signal.filtfilt(b, a, gaby_data, axis=0)"
   ]
  },
  {
   "cell_type": "code",
   "execution_count": null,
   "metadata": {
    "collapsed": false
   },
   "outputs": [],
   "source": [
    "window = 200\n",
    "step = 25\n",
    "corr = []\n",
    "times = []\n",
    "\n",
    "#advance window of 200 samples by 25 samples each time\n",
    "## take correlation between signals across each sample\n",
    "for start in np.arange(0, len(pierre_smoothed), step):\n",
    "    end = start + window\n",
    "    w1 = pierre_smoothed[start:end]\n",
    "    w2 = gaby_smoothed[start:end]\n",
    "    \n",
    "    ## average the correlation across each channel\n",
    "    r = 0\n",
    "    for c in range(w1.shape[1]): #for each electrode\n",
    "        r += stats.pearsonr(w1[:, c], w2[:, c])[0] #correlate that electrode between gaby and pierre\n",
    "    r /= w1.shape[1] #average correlation across electrodes\n",
    "    \n",
    "    mid = (start+end)/2 # middle sample\n",
    "    t = mid / fs # convert middle sample to time\n",
    "    \n",
    "    times.append(t)\n",
    "    corr.append(r)\n",
    "\n",
    "times = np.array(times)\n",
    "corr = np.array(corr)"
   ]
  },
  {
   "cell_type": "code",
   "execution_count": null,
   "metadata": {
    "collapsed": true
   },
   "outputs": [],
   "source": [
    "np.savetxt(\"times.txt\", times)\n",
    "np.savetxt(\"corr.txt\", corr)"
   ]
  },
  {
   "cell_type": "code",
   "execution_count": null,
   "metadata": {
    "collapsed": false
   },
   "outputs": [],
   "source": [
    "figure(figsize=(14,4))\n",
    "plot(times, corr)\n",
    "xlabel('Time (s)')\n",
    "ylabel('Correlation')\n",
    "_ = title('Correlation across brains')"
   ]
  },
  {
   "cell_type": "code",
   "execution_count": null,
   "metadata": {
    "collapsed": true
   },
   "outputs": [],
   "source": [
    "\"\"\"Syncing to video content\"\"\"\n",
    "start_white = 1492292390.07327\n",
    "start_black = 1492292391.07712\n",
    "end_white = 1492297704.94143\n",
    "end_black = 1492297705.94569"
   ]
  },
  {
   "cell_type": "code",
   "execution_count": null,
   "metadata": {
    "collapsed": false
   },
   "outputs": [],
   "source": [
    "print(\"Brain recordings lasted for\", int(times[-1]), \"seconds\")"
   ]
  },
  {
   "cell_type": "code",
   "execution_count": null,
   "metadata": {
    "collapsed": false
   },
   "outputs": [],
   "source": [
    "print(\"Brain recordings started\", pierre_t[0] - start_black, \"seconds after black screen\")"
   ]
  },
  {
   "cell_type": "code",
   "execution_count": null,
   "metadata": {
    "collapsed": false
   },
   "outputs": [],
   "source": [
    "print(\"Brain recordings ended\", end_black - pierre_t[-1], \"seconds before black screen\")"
   ]
  },
  {
   "cell_type": "code",
   "execution_count": null,
   "metadata": {
    "collapsed": true
   },
   "outputs": [],
   "source": [
    "#need to run this separately\n",
    "\"\"\"\n",
    "===========\n",
    "MovieWriter\n",
    "===========\n",
    "\n",
    "This example uses a MovieWriter directly to grab individual frames and write\n",
    "them to a file. This avoids any event loop integration, but has the advantage\n",
    "of working with even the Agg backend. This is not recommended for use in an\n",
    "interactive setting.\n",
    "\n",
    "\"\"\"\n",
    "# -*- noplot -*-\n",
    "\n",
    "import numpy as np\n",
    "import matplotlib\n",
    "matplotlib.use(\"Agg\")\n",
    "import matplotlib.pyplot as plt\n",
    "import matplotlib.animation as manimation\n",
    "\n",
    "FFMpegWriter = manimation.writers['ffmpeg']\n",
    "metadata = dict(title='Movie Test', artist='Matplotlib',\n",
    "                comment='Movie support!')\n",
    "writer = FFMpegWriter(fps=15, metadata=metadata)\n",
    "\n",
    "from matplotlib.figure import Figure\n",
    "from matplotlib.backends.backend_agg import FigureCanvasAgg as FigureCanvas\n",
    "\n",
    "times = np.loadtxt(\"times.txt\")\n",
    "corr = np.loadtxt(\"corr.txt\")\n",
    "norm = plt.Normalize()\n",
    "colors = plt.cm.jet(norm(corr))\n",
    "\n",
    "fig = plt.figure()\n",
    "l, = plt.plot([], [], 'k-o', markersize=10)\n",
    "ax = plt.gca()\n",
    "\n",
    "with writer.saving(fig, \"writer_test_color.mp4\", 100):\n",
    "    for i in range(len(times)):\n",
    "        plt.xlim(times[i]-10, times[i]+10)\n",
    "        plt.ylim(-1, 1)\n",
    "        ax.set_axis_bgcolor(colors[i])\n",
    "        l.set_data(times[i], corr[i])\n",
    "        writer.grab_frame()"
   ]
  },
  {
   "cell_type": "code",
   "execution_count": null,
   "metadata": {
    "collapsed": true
   },
   "outputs": [],
   "source": []
  }
 ],
 "metadata": {
  "anaconda-cloud": {},
  "kernelspec": {
   "display_name": "Python 3",
   "language": "python",
   "name": "python3"
  },
  "language_info": {
   "codemirror_mode": {
    "name": "ipython",
    "version": 3
   },
   "file_extension": ".py",
   "mimetype": "text/x-python",
   "name": "python",
   "nbconvert_exporter": "python",
   "pygments_lexer": "ipython3",
   "version": "3.5.1"
  }
 },
 "nbformat": 4,
 "nbformat_minor": 0
}
