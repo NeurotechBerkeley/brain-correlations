{
 "cells": [
  {
   "cell_type": "markdown",
   "metadata": {},
   "source": [
    "The purpose of this experiment is to use the correlations between the EEG brain recordings of multiple students during a lecture to determine how brain correlation changes with the content of the lecture at a particular time. The premise is that an interesting lecture will lead to students all paying attention to the same stimulus, and thus they will exhibit highly correlated brain activity. Thus, we hope to establish brain correlation as a measure of how interesting a lecture is at each point in time."
   ]
  },
  {
   "cell_type": "markdown",
   "metadata": {},
   "source": [
    "First, we import some Python packages."
   ]
  },
  {
   "cell_type": "code",
   "execution_count": 4,
   "metadata": {
    "collapsed": true
   },
   "outputs": [],
   "source": [
    "import os\n",
    "import pandas as pd\n",
    "from matplotlib.pyplot import *\n",
    "import matplotlib.pyplot as plt\n",
    "import numpy as np\n",
    "from scipy import signal, stats\n",
    "%matplotlib inline"
   ]
  },
  {
   "cell_type": "markdown",
   "metadata": {},
   "source": [
    "We take note of the paths of our raw data of the EEG recordings of each subject during the lecture."
   ]
  },
  {
   "cell_type": "code",
   "execution_count": 5,
   "metadata": {
    "collapsed": true
   },
   "outputs": [],
   "source": [
    "working_dir = os.getcwd()\n",
    "data_dir = os.path.join(working_dir, \"raw_data\")"
   ]
  },
  {
   "cell_type": "markdown",
   "metadata": {},
   "source": [
    "We use pandas to load the csv files into a dataframe, and then export it as a numpy multidimensional array. The shape of each person's recordings, after transposing, is 6 columns x num_timepoints, where the 6 columns are respectively, timestamp, channel 1, channel 2, channel 3, channel 4, and marker. In this experiment, timestamp is the absolute timing of each recording, as measured using Apple's built-in time. We measure absolute time so that even if different devices start to record at different times, we know exactly the offset between the devices, and can align them afterwards to the same starting and ending times. the channels represent the data collected from the 4 electrodes that were located on each subject's forehead and temples. The marker column can be used to add event-related data, however as we do not have discrete classes of events in this experiment, we do not use this column."
   ]
  },
  {
   "cell_type": "markdown",
   "metadata": {},
   "source": [
    "The two subjects' data that we use in this example are \"pierre\" and \"gaby\"."
   ]
  },
  {
   "cell_type": "code",
   "execution_count": 122,
   "metadata": {
    "collapsed": false
   },
   "outputs": [],
   "source": [
    "pierre = pd.read_csv(os.path.join(data_dir, \"data_pierre_1.csv\")).as_matrix()\n",
    "pierre_t = pierre[:, 0].astype(\"int\")\n",
    "gaby = pd.read_csv(os.path.join(data_dir, \"data_gaby.csv\")).as_matrix()\n",
    "gaby_t = gaby[:, 0].astype(\"int\")"
   ]
  },
  {
   "cell_type": "markdown",
   "metadata": {},
   "source": [
    "As mentioned before, due to each device starting and ending recording at different times, as need to align all subjects' data into absolute time. Here, we find that gaby's recording started earlier than pierre and ended later than pierre. Thus, we need to trim gaby's recordings to match pierre's starting and ending timestamps."
   ]
  },
  {
   "cell_type": "code",
   "execution_count": 123,
   "metadata": {
    "collapsed": false
   },
   "outputs": [
    {
     "name": "stdout",
     "output_type": "stream",
     "text": [
      "gaby's start time is 338 earlier than pierre\n",
      "gaby's end time is 747 later than pierre\n",
      "need to trim gaby on both ends to fit pierre\n"
     ]
    }
   ],
   "source": [
    "print(\"gaby's start time is\", pierre_t[0] - gaby_t[0], \"earlier than pierre\")\n",
    "print(\"gaby's end time is\", gaby_t[-1] - pierre_t[-1], \"later than pierre\")\n",
    "print(\"need to trim gaby on both ends to fit pierre\")"
   ]
  },
  {
   "cell_type": "code",
   "execution_count": 124,
   "metadata": {
    "collapsed": false
   },
   "outputs": [],
   "source": [
    "gaby = gaby[np.where(gaby_t >= pierre_t[0])]\n",
    "gaby_t = gaby[:, 0].astype(\"int\")"
   ]
  },
  {
   "cell_type": "code",
   "execution_count": 125,
   "metadata": {
    "collapsed": false
   },
   "outputs": [
    {
     "name": "stdout",
     "output_type": "stream",
     "text": [
      "Successfully aligned starting times!\n"
     ]
    }
   ],
   "source": [
    "if pierre_t[0] == gaby_t[0]:\n",
    "    print(\"Successfully aligned starting times!\")"
   ]
  },
  {
   "cell_type": "markdown",
   "metadata": {},
   "source": [
    "Now we also trim the gaby's data from the end to match pierre's end time."
   ]
  },
  {
   "cell_type": "code",
   "execution_count": 126,
   "metadata": {
    "collapsed": false
   },
   "outputs": [],
   "source": [
    "\"\"\"Trim gaby's end time to match pierre\"\"\"\n",
    "#we find the first index in which gaby's time is larger than pierre's last time\n",
    "diverging_index = np.where(gaby_t >= pierre_t[-1])[0][0]\n",
    "#and cut off gaby's timeseries after the diverging_index\n",
    "gaby = gaby[:diverging_index+1]\n",
    "gaby_t = gaby[:, 0].astype(\"int\")"
   ]
  },
  {
   "cell_type": "code",
   "execution_count": 127,
   "metadata": {
    "collapsed": false
   },
   "outputs": [
    {
     "name": "stdout",
     "output_type": "stream",
     "text": [
      "gaby's start time is 0 earlier than pierre\n",
      "gaby's end time is 0 later than pierre\n"
     ]
    }
   ],
   "source": [
    "print(\"gaby's start time is\", pierre_t[0] - gaby_t[0], \"earlier than pierre\")\n",
    "print(\"gaby's end time is\", gaby_t[-1] - pierre_t[-1], \"later than pierre\")"
   ]
  },
  {
   "cell_type": "code",
   "execution_count": 128,
   "metadata": {
    "collapsed": false
   },
   "outputs": [
    {
     "name": "stdout",
     "output_type": "stream",
     "text": [
      "Successfully aligned ending times!\n"
     ]
    }
   ],
   "source": [
    "if pierre_t[-1] == gaby_t[-1]:\n",
    "    print(\"Successfully aligned ending times!\")"
   ]
  },
  {
   "cell_type": "markdown",
   "metadata": {},
   "source": [
    "Now that we've trimmed the two subject's timeseries to the same starting and ending times, there's another issue - different devices might have different sampling rates, which means that we may end up with different samples per the same amount of time between pierre and gaby. This may mess up our correlation calculations later on. Thus, we must find the sampling rates of gaby and pierre, and downsample the one with a higher sampling rate."
   ]
  },
  {
   "cell_type": "code",
   "execution_count": 129,
   "metadata": {
    "collapsed": false
   },
   "outputs": [
    {
     "name": "stdout",
     "output_type": "stream",
     "text": [
      "gaby's sampling frequency is 191.618619413\n",
      "pierre's sampling frequency is 196.154192013\n",
      "Therefore, pierre has more samples within the same timecourse.\n",
      "pierre has 17149 more samples than gaby within same timecourse.\n",
      "Need to downsample pierre to have same number of data points as gaby.\n"
     ]
    }
   ],
   "source": [
    "gaby_fs = 1/np.mean(np.diff(gaby_t))\n",
    "print(\"gaby's sampling frequency is\", gaby_fs)\n",
    "pierre_fs = 1/np.mean(np.diff(pierre_t))\n",
    "print(\"pierre's sampling frequency is\", pierre_fs)\n",
    "print(\"Therefore, pierre has more samples within the same timecourse.\")\n",
    "print(\"pierre has\", len(pierre_t) - len(gaby_t), \"more samples than gaby within same timecourse.\")\n",
    "print(\"Need to downsample pierre to have same number of data points as gaby.\")"
   ]
  },
  {
   "cell_type": "markdown",
   "metadata": {},
   "source": [
    "We use scipy's signal module to resample pierre's data to match gaby's sampling frequency. Now, we have the same number of datapoints within the same amount of time."
   ]
  },
  {
   "cell_type": "code",
   "execution_count": 130,
   "metadata": {
    "collapsed": true
   },
   "outputs": [],
   "source": [
    "\"\"\"Resampling pierre to gaby's length\"\"\"\n",
    "pierre = signal.resample(pierre, len(gaby_t))\n",
    "pierre_t = pierre[:, 0].astype(\"int\")"
   ]
  },
  {
   "cell_type": "code",
   "execution_count": 133,
   "metadata": {
    "collapsed": false
   },
   "outputs": [
    {
     "name": "stdout",
     "output_type": "stream",
     "text": [
      "successfully resampled pierre to have the same samples as gaby within the same timecourse.\n"
     ]
    }
   ],
   "source": [
    "if len(pierre_t) - len(gaby_t) == 0:\n",
    "    print(\"successfully resampled pierre to have the same samples as gaby within the same timecourse.\")"
   ]
  },
  {
   "cell_type": "markdown",
   "metadata": {},
   "source": [
    "As pierre_fs and gaby_fs are now equal, we collapse the two into a single variable fs (sampling frequency)"
   ]
  },
  {
   "cell_type": "code",
   "execution_count": 134,
   "metadata": {
    "collapsed": true
   },
   "outputs": [],
   "source": [
    "fs = gaby_fs"
   ]
  },
  {
   "cell_type": "markdown",
   "metadata": {},
   "source": [
    "Now that all the data are aligned, we don't need the timestamps column anymore. We only need the data from the four EEG channels."
   ]
  },
  {
   "cell_type": "code",
   "execution_count": 137,
   "metadata": {
    "collapsed": true
   },
   "outputs": [],
   "source": [
    "#only take columns 1-4\n",
    "pierre_data = pierre[:, 1:5]\n",
    "gaby_data = gaby[:, 1:5]"
   ]
  },
  {
   "cell_type": "code",
   "execution_count": 136,
   "metadata": {
    "collapsed": false
   },
   "outputs": [
    {
     "data": {
      "text/plain": [
       "(724511, 4)"
      ]
     },
     "execution_count": 136,
     "metadata": {},
     "output_type": "execute_result"
    }
   ],
   "source": [
    "pierre_data.shape"
   ]
  },
  {
   "cell_type": "markdown",
   "metadata": {},
   "source": [
    "One last thing before calculating correlations through time: A common issue with electrodes is that there is noise from the equipment itself. Empirical evidence suggests that we should filter our signal to be between 2Hz and 30Hz to best preserve the actual brain signal from the EEG data. Therefore, we design bandpass filter and smooth our data with that filter."
   ]
  },
  {
   "cell_type": "code",
   "execution_count": 138,
   "metadata": {
    "collapsed": false
   },
   "outputs": [],
   "source": [
    "## filter signal to remove noise\n",
    "b, a = signal.butter(2, (2/(fs/2), 30/(fs/2)), btype='bandpass')\n",
    "pierre_smoothed = signal.filtfilt(b, a, pierre_data, axis=0)\n",
    "gaby_smoothed = signal.filtfilt(b, a, gaby_data, axis=0)"
   ]
  },
  {
   "cell_type": "markdown",
   "metadata": {},
   "source": [
    "We finally calculate the correlations through time of the two timeseries. Because correlation returns a static scalar when applied to two timeseries, we use a sliding window to repeatedly calculate correlations throughout the timeseries. Here the windows variable is the size of the window (how many timepoints to include in a single correlation calculation), and the step variable is how much we should shift the window to the right to calculate the next correlation datapoint."
   ]
  },
  {
   "cell_type": "code",
   "execution_count": 146,
   "metadata": {
    "collapsed": false
   },
   "outputs": [],
   "source": [
    "window = int(fs)\n",
    "step = int(fs/4)\n",
    "corr = []\n",
    "times = []\n",
    "\n",
    "#advance window of 200 samples by 25 samples each time\n",
    "#take correlation between signals across each sample\n",
    "for start in np.arange(0, len(pierre_smoothed), step):\n",
    "    end = start + window\n",
    "    w1 = pierre_smoothed[start:end]\n",
    "    w2 = gaby_smoothed[start:end]\n",
    "\n",
    "    # average the correlation across each channel\n",
    "    r = 0\n",
    "    for c in range(w1.shape[1]): #for each electrode\n",
    "        r += stats.pearsonr(w1[:, c], w2[:, c])[0] #correlate that electrode between gaby and pierre\n",
    "    r /= w1.shape[1] #average correlation across electrodes\n",
    "    \n",
    "    mid = (start+end)/2 # middle sample\n",
    "    t = mid / fs # convert middle sample to time\n",
    "    \n",
    "    times.append(t)\n",
    "    corr.append(r)\n",
    "\n",
    "times = np.array(times)\n",
    "corr = np.array(corr)"
   ]
  },
  {
   "cell_type": "markdown",
   "metadata": {},
   "source": [
    "We display a simple plot to show the correlation through time of the two subject's brain data."
   ]
  },
  {
   "cell_type": "code",
   "execution_count": 147,
   "metadata": {
    "collapsed": false
   },
   "outputs": [
    {
     "data": {
      "image/png": "[encoded data removed]",
      "text/plain": [
       "<matplotlib.figure.Figure at 0x10ca10cf8>"
      ]
     },
     "metadata": {},
     "output_type": "display_data"
    }
   ],
   "source": [
    "figure(figsize=(14,4))\n",
    "plot(times, corr)\n",
    "xlabel('Time (s)')\n",
    "ylabel('Correlation')\n",
    "_ = title('Correlation across brains')"
   ]
  },
  {
   "cell_type": "markdown",
   "metadata": {},
   "source": [
    "Now that we have the brain correlations through time, we want to sync it up with the lecture video, to see at which times in the lecture the correlation was high and low. The lecture is also recorded according to the same absolute time of our EEG devices. We used a screen flashing white and black at specific times to know the exact timings of the lecture video."
   ]
  },
  {
   "cell_type": "code",
   "execution_count": 148,
   "metadata": {
    "collapsed": true
   },
   "outputs": [],
   "source": [
    "\"\"\"Syncing to video content\"\"\"\n",
    "start_white = 1492292390.07327\n",
    "start_black = 1492292391.07712\n",
    "end_white = 1492297704.94143\n",
    "end_black = 1492297705.94569"
   ]
  },
  {
   "cell_type": "code",
   "execution_count": 149,
   "metadata": {
    "collapsed": false
   },
   "outputs": [
    {
     "name": "stdout",
     "output_type": "stream",
     "text": [
      "Brain recordings lasted for 3781 seconds\n"
     ]
    }
   ],
   "source": [
    "print(\"Brain recordings lasted for\", int(times[-1]), \"seconds\")"
   ]
  },
  {
   "cell_type": "code",
   "execution_count": 150,
   "metadata": {
    "collapsed": false
   },
   "outputs": [
    {
     "name": "stdout",
     "output_type": "stream",
     "text": [
      "Brain recordings started 166.922879934 seconds after black screen\n"
     ]
    }
   ],
   "source": [
    "print(\"Brain recordings started\", pierre_t[0] - start_black, \"seconds after black screen\")"
   ]
  },
  {
   "cell_type": "code",
   "execution_count": 151,
   "metadata": {
    "collapsed": false
   },
   "outputs": [
    {
     "name": "stdout",
     "output_type": "stream",
     "text": [
      "Brain recordings ended 1393.94568992 seconds before black screen\n"
     ]
    }
   ],
   "source": [
    "print(\"Brain recordings ended\", end_black - pierre_t[-1], \"seconds before black screen\")"
   ]
  }
 ],
 "metadata": {
  "anaconda-cloud": {},
  "kernelspec": {
   "display_name": "Python 3",
   "language": "python",
   "name": "python3"
  },
  "language_info": {
   "codemirror_mode": {
    "name": "ipython",
    "version": 3
   },
   "file_extension": ".py",
   "mimetype": "text/x-python",
   "name": "python",
   "nbconvert_exporter": "python",
   "pygments_lexer": "ipython3",
   "version": "3.5.1"
  }
 },
 "nbformat": 4,
 "nbformat_minor": 0
}
